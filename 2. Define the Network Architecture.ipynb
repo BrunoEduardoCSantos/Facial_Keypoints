{
 "cells": [
  {
   "cell_type": "markdown",
   "metadata": {},
   "source": [
    "## Define the Convolutional Neural Network\n",
    "\n",
    "After you've looked at the data you're working with and, in this case, know the shapes of the images and of the keypoints, you are ready to define a convolutional neural network that can *learn* from this data.\n",
    "\n",
    "In this notebook and in `models.py`, you will:\n",
    "1. Define a CNN with images as input and keypoints as output\n",
    "2. Construct the transformed FaceKeypointsDataset, just as before\n",
    "3. Train the CNN on the training data, tracking loss\n",
    "4. See how the trained model performs on test data\n",
    "5. If necessary, modify the CNN structure and model hyperparameters, so that it performs *well* **\\***\n",
    "\n",
    "**\\*** What does *well* mean?\n",
    "\n",
    "\"Well\" means that the model's loss decreases during training **and**, when applied to test image data, the model produces keypoints that closely match the true keypoints of each face. And you'll see examples of this later in the notebook.\n",
    "\n",
    "---\n"
   ]
  },
  {
   "cell_type": "markdown",
   "metadata": {},
   "source": [
    "## CNN Architecture\n",
    "\n",
    "Recall that CNN's are defined by a few types of layers:\n",
    "* Convolutional layers\n",
    "* Maxpooling layers\n",
    "* Fully-connected layers\n",
    "\n",
    "You are required to use the above layers and encouraged to add multiple convolutional layers and things like dropout layers that may prevent overfitting. You are also encouraged to look at literature on keypoint detection, such as [this paper](https://arxiv.org/pdf/1710.00977.pdf), to help you determine the structure of your network.\n",
    "\n",
    "\n",
    "### TODO: Define your model in the provided file `models.py` file\n",
    "\n",
    "This file is mostly empty but contains the expected name and some TODO's for creating your model.\n",
    "\n",
    "---"
   ]
  },
  {
   "cell_type": "markdown",
   "metadata": {},
   "source": [
    "## PyTorch Neural Nets\n",
    "\n",
    "To define a neural network in PyTorch, you define the layers of a model in the function `__init__` and define the feedforward behavior of a network that employs those initialized layers in the function `forward`, which takes in an input image tensor, `x`. The structure of this Net class is shown below and left for you to fill in.\n",
    "\n",
    "Note: During training, PyTorch will be able to perform backpropagation by keeping track of the network's feedforward behavior and using autograd to calculate the update to the weights in the network.\n",
    "\n",
    "#### Define the Layers in ` __init__`\n",
    "As a reminder, a conv/pool layer may be defined like this (in `__init__`):\n",
    "```\n",
    "# 1 input image channel (for grayscale images), 32 output channels/feature maps, 3x3 square convolution kernel\n",
    "self.conv1 = nn.Conv2d(1, 32, 3)\n",
    "\n",
    "# maxpool that uses a square window of kernel_size=2, stride=2\n",
    "self.pool = nn.MaxPool2d(2, 2)      \n",
    "```\n",
    "\n",
    "#### Refer to Layers in `forward`\n",
    "Then referred to in the `forward` function like this, in which the conv1 layer has a ReLu activation applied to it before maxpooling is applied:\n",
    "```\n",
    "x = self.pool(F.relu(self.conv1(x)))\n",
    "```\n",
    "\n",
    "Best practice is to place any layers whose weights will change during the training process in `__init__` and refer to them in the `forward` function; any layers or functions that always behave in the same way, such as a pre-defined activation function, should appear *only* in the `forward` function."
   ]
  },
  {
   "cell_type": "markdown",
   "metadata": {},
   "source": [
    "#### Why models.py\n",
    "\n",
    "You are tasked with defining the network in the `models.py` file so that any models you define can be saved and loaded by name in different notebooks in this project directory. For example, by defining a CNN class called `Net` in `models.py`, you can then create that same architecture in this and other notebooks by simply importing the class and instantiating a model:\n",
    "```\n",
    "    from models import Net\n",
    "    net = Net()\n",
    "```"
   ]
  },
  {
   "cell_type": "code",
   "execution_count": 1,
   "metadata": {},
   "outputs": [
    {
     "name": "stdout",
     "output_type": "stream",
     "text": [
      "mkdir: cannot create directory ‘/data’: File exists\n",
      "--2018-06-27 23:14:29--  https://s3.amazonaws.com/video.udacity-data.com/topher/2018/May/5aea1b91_train-test-data/train-test-data.zip\n",
      "Resolving s3.amazonaws.com (s3.amazonaws.com)... 52.216.224.67\n",
      "Connecting to s3.amazonaws.com (s3.amazonaws.com)|52.216.224.67|:443... connected.\n",
      "HTTP request sent, awaiting response... 200 OK\n",
      "Length: 338613624 (323M) [application/zip]\n",
      "Saving to: ‘/data/train-test-data.zip.4’\n",
      "\n",
      "train-test-data.zip 100%[===================>] 322.93M  29.5MB/s    in 7.9s    \n",
      "\n",
      "2018-06-27 23:14:38 (40.9 MB/s) - ‘/data/train-test-data.zip.4’ saved [338613624/338613624]\n",
      "\n",
      "Archive:  /data/train-test-data.zip\n"
     ]
    }
   ],
   "source": [
    "# load the data if you need to; if you have already loaded the data, you may comment this cell out\n",
    "# -- DO NOT CHANGE THIS CELL -- #\n",
    "!mkdir /data\n",
    "!wget -P /data/ https://s3.amazonaws.com/video.udacity-data.com/topher/2018/May/5aea1b91_train-test-data/train-test-data.zip\n",
    "!unzip -n /data/train-test-data.zip -d /data"
   ]
  },
  {
   "cell_type": "markdown",
   "metadata": {},
   "source": [
    "<div class=\"alert alert-info\">**Note:** Workspaces automatically close connections after 30 minutes of inactivity (including inactivity while training!). Use the code snippet below to keep your workspace alive during training. (The active_session context manager is imported below.)\n",
    "</div>\n",
    "```\n",
    "from workspace_utils import active_session\n",
    "\n",
    "with active_session():\n",
    "    train_model(num_epochs)\n",
    "```\n"
   ]
  },
  {
   "cell_type": "code",
   "execution_count": 2,
   "metadata": {},
   "outputs": [],
   "source": [
    "# import the usual resources\n",
    "import matplotlib.pyplot as plt\n",
    "import numpy as np\n",
    "\n",
    "# import utilities to keep workspaces alive during model training\n",
    "from workspace_utils import active_session\n",
    "\n",
    "# watch for any changes in model.py, if it changes, re-load it automatically\n",
    "%load_ext autoreload\n",
    "%autoreload 2"
   ]
  },
  {
   "cell_type": "code",
   "execution_count": 3,
   "metadata": {},
   "outputs": [
    {
     "name": "stdout",
     "output_type": "stream",
     "text": [
      "Net(\n",
      "  (conv1): Conv2d(1, 32, kernel_size=(3, 3), stride=(1, 1))\n",
      "  (pool1): MaxPool2d(kernel_size=2, stride=2, padding=0, dilation=1, ceil_mode=False)\n",
      "  (conv2): Conv2d(32, 64, kernel_size=(2, 2), stride=(1, 1))\n",
      "  (pool2): MaxPool2d(kernel_size=2, stride=2, padding=0, dilation=1, ceil_mode=False)\n",
      "  (conv3): Conv2d(64, 128, kernel_size=(4, 4), stride=(1, 1))\n",
      "  (pool3): MaxPool2d(kernel_size=2, stride=2, padding=0, dilation=1, ceil_mode=False)\n",
      "  (fc1): Linear(in_features=86528, out_features=512, bias=True)\n",
      "  (fc2): Linear(in_features=512, out_features=136, bias=True)\n",
      "  (dropout): Dropout(p=0.1)\n",
      ")\n"
     ]
    }
   ],
   "source": [
    "## Define the Net in models.py\n",
    "\n",
    "import torch\n",
    "import torch.nn as nn\n",
    "import torch.nn.functional as F\n",
    "\n",
    "## TODO: Once you've define the network, you can instantiate it\n",
    "# one example conv layer has been provided for you\n",
    "from models import Net\n",
    "\n",
    "net = Net()\n",
    "print(net)"
   ]
  },
  {
   "cell_type": "markdown",
   "metadata": {
    "collapsed": true
   },
   "source": [
    "## Transform the dataset \n",
    "\n",
    "To prepare for training, create a transformed dataset of images and keypoints.\n",
    "\n",
    "### TODO: Define a data transform\n",
    "\n",
    "In PyTorch, a convolutional neural network expects a torch image of a consistent size as input. For efficient training, and so your model's loss does not blow up during training, it is also suggested that you normalize the input images and keypoints. The necessary transforms have been defined in `data_load.py` and you **do not** need to modify these; take a look at this file (you'll see the same transforms that were defined and applied in Notebook 1).\n",
    "\n",
    "To define the data transform below, use a [composition](http://pytorch.org/tutorials/beginner/data_loading_tutorial.html#compose-transforms) of:\n",
    "1. Rescaling and/or cropping the data, such that you are left with a square image (the suggested size is 224x224px)\n",
    "2. Normalizing the images and keypoints; turning each RGB image into a grayscale image with a color range of [0, 1] and transforming the given keypoints into a range of [-1, 1]\n",
    "3. Turning these images and keypoints into Tensors\n",
    "\n",
    "These transformations have been defined in `data_load.py`, but it's up to you to call them and create a `data_transform` below. **This transform will be applied to the training data and, later, the test data**. It will change how you go about displaying these images and keypoints, but these steps are essential for efficient training.\n",
    "\n",
    "As a note, should you want to perform data augmentation (which is optional in this project), and randomly rotate or shift these images, a square image size will be useful; rotating a 224x224 image by 90 degrees will result in the same shape of output."
   ]
  },
  {
   "cell_type": "code",
   "execution_count": 4,
   "metadata": {},
   "outputs": [],
   "source": [
    "from torch.utils.data import Dataset, DataLoader\n",
    "from torchvision import transforms, utils\n",
    "\n",
    "# the dataset we created in Notebook 1 is copied in the helper file `data_load.py`\n",
    "from data_load import FacialKeypointsDataset\n",
    "# the transforms we defined in Notebook 1 are in the helper file `data_load.py`\n",
    "from data_load import Rescale, RandomCrop, Normalize, ToTensor\n",
    "\n",
    "\n",
    "## define the data_transform using transforms.Compose([all tx's, . , .])\n",
    "# order matters! i.e. rescaling should come before a smaller crop\n",
    "data_transform =  transforms.transforms.Compose([Rescale(250),\n",
    "                               RandomCrop(224),Normalize(),ToTensor()])\n",
    "\n",
    "# testing that you've defined a transform\n",
    "assert(data_transform is not None), 'Define a data_transform'"
   ]
  },
  {
   "cell_type": "code",
   "execution_count": 5,
   "metadata": {},
   "outputs": [
    {
     "name": "stdout",
     "output_type": "stream",
     "text": [
      "Number of images:  3462\n",
      "0 torch.Size([1, 224, 224]) torch.Size([68, 2])\n",
      "1 torch.Size([1, 224, 224]) torch.Size([68, 2])\n",
      "2 torch.Size([1, 224, 224]) torch.Size([68, 2])\n",
      "3 torch.Size([1, 224, 224]) torch.Size([68, 2])\n"
     ]
    }
   ],
   "source": [
    "# create the transformed dataset\n",
    "transformed_dataset = FacialKeypointsDataset(csv_file='/data/training_frames_keypoints.csv',\n",
    "                                             root_dir='/data/training/',\n",
    "                                             transform=data_transform)\n",
    "\n",
    "\n",
    "print('Number of images: ', len(transformed_dataset))\n",
    "\n",
    "# iterate through the transformed dataset and print some stats about the first few samples\n",
    "for i in range(4):\n",
    "    sample = transformed_dataset[i]\n",
    "    print(i, sample['image'].size(), sample['keypoints'].size())"
   ]
  },
  {
   "cell_type": "markdown",
   "metadata": {},
   "source": [
    "## Batching and loading data\n",
    "\n",
    "Next, having defined the transformed dataset, we can use PyTorch's DataLoader class to load the training data in batches of whatever size as well as to shuffle the data for training the model. You can read more about the parameters of the DataLoader, in [this documentation](http://pytorch.org/docs/master/data.html).\n",
    "\n",
    "#### Batch size\n",
    "Decide on a good batch size for training your model. Try both small and large batch sizes and note how the loss decreases as the model trains. Too large a batch size may cause your model to crash and/or run out of memory while training.\n",
    "\n",
    "**Note for Windows users**: Please change the `num_workers` to 0 or you may face some issues with your DataLoader failing."
   ]
  },
  {
   "cell_type": "code",
   "execution_count": 6,
   "metadata": {},
   "outputs": [],
   "source": [
    "# load training data in batches\n",
    "batch_size = 10\n",
    "\n",
    "train_loader = DataLoader(transformed_dataset, \n",
    "                          batch_size=batch_size,\n",
    "                          shuffle=True, \n",
    "                          num_workers=0)\n"
   ]
  },
  {
   "cell_type": "markdown",
   "metadata": {},
   "source": [
    "## Before training\n",
    "\n",
    "Take a look at how this model performs before it trains. You should see that the keypoints it predicts start off in one spot and don't match the keypoints on a face at all! It's interesting to visualize this behavior so that you can compare it to the model after training and see how the model has improved.\n",
    "\n",
    "#### Load in the test dataset\n",
    "\n",
    "The test dataset is one that this model has *not* seen before, meaning it has not trained with these images. We'll load in this test data and before and after training, see how your model performs on this set!\n",
    "\n",
    "To visualize this test data, we have to go through some un-transformation steps to turn our images into python images from tensors and to turn our keypoints back into a recognizable range. "
   ]
  },
  {
   "cell_type": "code",
   "execution_count": 7,
   "metadata": {},
   "outputs": [],
   "source": [
    "# load in the test data, using the dataset class\n",
    "# AND apply the data_transform you defined above\n",
    "\n",
    "# create the test dataset\n",
    "test_dataset = FacialKeypointsDataset(csv_file='/data/test_frames_keypoints.csv',\n",
    "                                             root_dir='/data/test/',\n",
    "                                             transform=data_transform)\n",
    "\n"
   ]
  },
  {
   "cell_type": "code",
   "execution_count": 8,
   "metadata": {},
   "outputs": [],
   "source": [
    "# load test data in batches\n",
    "batch_size = 10\n",
    "\n",
    "test_loader = DataLoader(test_dataset, \n",
    "                          batch_size=batch_size,\n",
    "                          shuffle=True, \n",
    "                          num_workers=0)"
   ]
  },
  {
   "cell_type": "markdown",
   "metadata": {},
   "source": [
    "## Apply the model on a test sample\n",
    "\n",
    "To test the model on a test sample of data, you have to follow these steps:\n",
    "1. Extract the image and ground truth keypoints from a sample\n",
    "2. Wrap the image in a Variable, so that the net can process it as input and track how it changes as the image moves through the network.\n",
    "3. Make sure the image is a FloatTensor, which the model expects.\n",
    "4. Forward pass the image through the net to get the predicted, output keypoints.\n",
    "\n",
    "This function test how the network performs on the first batch of test data. It returns the images, the transformed images, the predicted keypoints (produced by the model), and the ground truth keypoints."
   ]
  },
  {
   "cell_type": "code",
   "execution_count": 9,
   "metadata": {},
   "outputs": [],
   "source": [
    "# test the model on a batch of test images\n",
    "\n",
    "def net_sample_output():\n",
    "    \n",
    "    # iterate through the test dataset\n",
    "    for i, sample in enumerate(test_loader):\n",
    "        \n",
    "        # get sample data: images and ground truth keypoints\n",
    "        images = sample['image']\n",
    "        key_pts = sample['keypoints']\n",
    "\n",
    "        # convert images to FloatTensors\n",
    "        images = images.type(torch.FloatTensor)\n",
    "\n",
    "        # forward pass to get net output\n",
    "        output_pts = net(images)\n",
    "        \n",
    "        # reshape to batch_size x 68 x 2 pts\n",
    "        print(output_pts.shape)\n",
    "        output_pts = output_pts.view(output_pts.size()[0], 68, -1)\n",
    "        \n",
    "        # break after first image is tested\n",
    "        if i == 0:\n",
    "            return images, output_pts, key_pts\n",
    "            "
   ]
  },
  {
   "cell_type": "markdown",
   "metadata": {},
   "source": [
    "#### Debugging tips\n",
    "\n",
    "If you get a size or dimension error here, make sure that your network outputs the expected number of keypoints! Or if you get a Tensor type error, look into changing the above code that casts the data into float types: `images = images.type(torch.FloatTensor)`."
   ]
  },
  {
   "cell_type": "code",
   "execution_count": 10,
   "metadata": {},
   "outputs": [
    {
     "name": "stdout",
     "output_type": "stream",
     "text": [
      "torch.Size([10, 136])\n",
      "torch.Size([10, 1, 224, 224])\n",
      "torch.Size([10, 68, 2])\n",
      "torch.Size([10, 68, 2])\n"
     ]
    }
   ],
   "source": [
    "# call the above function\n",
    "# returns: test images, test predicted keypoints, test ground truth keypoints\n",
    "test_images, test_outputs, gt_pts = net_sample_output()\n",
    "\n",
    "# print out the dimensions of the data to see if they make sense\n",
    "print(test_images.data.size())\n",
    "print(test_outputs.data.size())\n",
    "print(gt_pts.size())"
   ]
  },
  {
   "cell_type": "markdown",
   "metadata": {},
   "source": [
    "## Visualize the predicted keypoints\n",
    "\n",
    "Once we've had the model produce some predicted output keypoints, we can visualize these points in a way that's similar to how we've displayed this data before, only this time, we have to \"un-transform\" the image/keypoint data to display it.\n",
    "\n",
    "Note that I've defined a *new* function, `show_all_keypoints` that displays a grayscale image, its predicted keypoints and its ground truth keypoints (if provided)."
   ]
  },
  {
   "cell_type": "code",
   "execution_count": 11,
   "metadata": {},
   "outputs": [],
   "source": [
    "def show_all_keypoints(image, predicted_key_pts, gt_pts=None):\n",
    "    \"\"\"Show image with predicted keypoints\"\"\"\n",
    "    # image is grayscale\n",
    "    plt.imshow(image, cmap='gray')\n",
    "    plt.scatter(predicted_key_pts[:, 0], predicted_key_pts[:, 1], s=20, marker='.', c='m')\n",
    "    # plot ground truth points as green pts\n",
    "    if gt_pts is not None:\n",
    "        plt.scatter(gt_pts[:, 0], gt_pts[:, 1], s=20, marker='.', c='g')\n"
   ]
  },
  {
   "cell_type": "markdown",
   "metadata": {},
   "source": [
    "#### Un-transformation\n",
    "\n",
    "Next, you'll see a helper function. `visualize_output` that takes in a batch of images, predicted keypoints, and ground truth keypoints and displays a set of those images and their true/predicted keypoints.\n",
    "\n",
    "This function's main role is to take batches of image and keypoint data (the input and output of your CNN), and transform them into numpy images and un-normalized keypoints (x, y) for normal display. The un-transformation process turns keypoints and images into numpy arrays from Tensors *and* it undoes the keypoint normalization done in the Normalize() transform; it's assumed that you applied these transformations when you loaded your test data."
   ]
  },
  {
   "cell_type": "code",
   "execution_count": 12,
   "metadata": {},
   "outputs": [
    {
     "data": {
      "image/png": "[encoded data removed]",
      "text/plain": [
       "<matplotlib.figure.Figure at 0x7f13205bae80>"
      ]
     },
     "metadata": {},
     "output_type": "display_data"
    },
    {
     "data": {
      "image/png": "[encoded data removed]",
      "text/plain": [
       "<matplotlib.figure.Figure at 0x7f132050ef60>"
      ]
     },
     "metadata": {},
     "output_type": "display_data"
    },
    {
     "data": {
      "image/png": "[encoded data removed]",
      "text/plain": [
       "<matplotlib.figure.Figure at 0x7f13204e76d8>"
      ]
     },
     "metadata": {},
     "output_type": "display_data"
    },
    {
     "data": {
      "image/png": "[encoded data removed]",
      "text/plain": [
       "<matplotlib.figure.Figure at 0x7f13204a87b8>"
      ]
     },
     "metadata": {},
     "output_type": "display_data"
    },
    {
     "data": {
      "image/png": "[encoded data removed]",
      "text/plain": [
       "<matplotlib.figure.Figure at 0x7f132046abe0>"
      ]
     },
     "metadata": {},
     "output_type": "display_data"
    },
    {
     "data": {
      "image/png": "[encoded data removed]",
      "text/plain": [
       "<matplotlib.figure.Figure at 0x7f132042c978>"
      ]
     },
     "metadata": {},
     "output_type": "display_data"
    },
    {
     "data": {
      "image/png": "[encoded data removed]",
      "text/plain": [
       "<matplotlib.figure.Figure at 0x7f13203e9518>"
      ]
     },
     "metadata": {},
     "output_type": "display_data"
    },
    {
     "data": {
      "image/png": "[encoded data removed]",
      "text/plain": [
       "<matplotlib.figure.Figure at 0x7f13203aa518>"
      ]
     },
     "metadata": {},
     "output_type": "display_data"
    },
    {
     "data": {
      "image/png": "[encoded data removed]",
      "text/plain": [
       "<matplotlib.figure.Figure at 0x7f132036d5f8>"
      ]
     },
     "metadata": {},
     "output_type": "display_data"
    },
    {
     "data": {
      "image/png": "[encoded data removed]",
      "text/plain": [
       "<matplotlib.figure.Figure at 0x7f13203316d8>"
      ]
     },
     "metadata": {},
     "output_type": "display_data"
    }
   ],
   "source": [
    "# visualize the output\n",
    "# by default this shows a batch of 10 images\n",
    "def visualize_output(test_images, test_outputs, gt_pts=None, batch_size=10):\n",
    "\n",
    "    for i in range(batch_size):\n",
    "        plt.figure(figsize=(20,10))\n",
    "        ax = plt.subplot(1, batch_size, i+1)\n",
    "\n",
    "        # un-transform the image data\n",
    "        image = test_images[i].data   # get the image from it's Variable wrapper\n",
    "        image = image.numpy()   # convert to numpy array from a Tensor\n",
    "        image = np.transpose(image, (1, 2, 0))   # transpose to go from torch to numpy image\n",
    "\n",
    "        # un-transform the predicted key_pts data\n",
    "        predicted_key_pts = test_outputs[i].data\n",
    "        predicted_key_pts = predicted_key_pts.numpy()\n",
    "        # undo normalization of keypoints  \n",
    "        predicted_key_pts = predicted_key_pts*50.0+100\n",
    "        \n",
    "        # plot ground truth points for comparison, if they exist\n",
    "        ground_truth_pts = None\n",
    "        if gt_pts is not None:\n",
    "            ground_truth_pts = gt_pts[i]         \n",
    "            ground_truth_pts = ground_truth_pts*50.0+100\n",
    "        \n",
    "        # call show_all_keypoints\n",
    "        show_all_keypoints(np.squeeze(image), predicted_key_pts, ground_truth_pts)\n",
    "            \n",
    "        plt.axis('off')\n",
    "\n",
    "    plt.show()\n",
    "    \n",
    "# call it\n",
    "visualize_output(test_images, test_outputs, gt_pts)"
   ]
  },
  {
   "cell_type": "markdown",
   "metadata": {},
   "source": [
    "## Training\n",
    "\n",
    "#### Loss function\n",
    "Training a network to predict keypoints is different than training a network to predict a class; instead of outputting a distribution of classes and using cross entropy loss, you may want to choose a loss function that is suited for regression, which directly compares a predicted value and target value. Read about the various kinds of loss functions (like MSE or L1/SmoothL1 loss) in [this documentation](http://pytorch.org/docs/master/_modules/torch/nn/modules/loss.html).\n",
    "\n",
    "### TODO: Define the loss and optimization\n",
    "\n",
    "Next, you'll define how the model will train by deciding on the loss function and optimizer.\n",
    "\n",
    "---"
   ]
  },
  {
   "cell_type": "code",
   "execution_count": 13,
   "metadata": {},
   "outputs": [],
   "source": [
    "##  loss and optimization\n",
    "import torch.optim as optim\n",
    "\n",
    "criterion = nn.SmoothL1Loss()\n",
    "\n",
    "optimizer = optim.Adam(net.parameters(),lr = 0.001)\n"
   ]
  },
  {
   "cell_type": "markdown",
   "metadata": {},
   "source": [
    "## Training and Initial Observation\n",
    "\n",
    "Now, you'll train on your batched training data from `train_loader` for a number of epochs. \n",
    "\n",
    "To quickly observe how your model is training and decide on whether or not you should modify it's structure or hyperparameters, you're encouraged to start off with just one or two epochs at first. As you train, note how your the model's loss behaves over time: does it decrease quickly at first and then slow down? Does it take a while to decrease in the first place? What happens if you change the batch size of your training data or modify your loss function? etc. \n",
    "\n",
    "Use these initial observations to make changes to your model and decide on the best architecture before you train for many epochs and create a final model."
   ]
  },
  {
   "cell_type": "code",
   "execution_count": 14,
   "metadata": {},
   "outputs": [],
   "source": [
    "def train_net(n_epochs):\n",
    "\n",
    "    # prepare the net for training\n",
    "    net.train()\n",
    "\n",
    "    for epoch in range(n_epochs):  # loop over the dataset multiple times\n",
    "        \n",
    "        running_loss = 0.0\n",
    "\n",
    "        # train on batches of data, assumes you already have train_loader\n",
    "        for batch_i, data in enumerate(train_loader):\n",
    "            # get the input images and their corresponding labels\n",
    "            images = data['image']\n",
    "            key_pts = data['keypoints']\n",
    "\n",
    "            # flatten pts\n",
    "            key_pts = key_pts.view(key_pts.size(0), -1)\n",
    "\n",
    "            # convert variables to floats for regression loss\n",
    "            key_pts = key_pts.type(torch.FloatTensor)\n",
    "            images = images.type(torch.FloatTensor)\n",
    "\n",
    "            # forward pass to get outputs\n",
    "            output_pts = net(images)\n",
    "\n",
    "            # calculate the loss between predicted and target keypoints\n",
    "            loss = criterion(output_pts, key_pts)\n",
    "\n",
    "            # zero the parameter (weight) gradients\n",
    "            optimizer.zero_grad()\n",
    "            \n",
    "            # backward pass to calculate the weight gradients\n",
    "            loss.backward()\n",
    "\n",
    "            # update the weights\n",
    "            optimizer.step()\n",
    "\n",
    "            # print loss statistics\n",
    "            running_loss += loss.item()\n",
    "            if batch_i % 10 == 9:    # print every 10 batches\n",
    "                print('Epoch: {}, Batch: {}, Avg. Loss: {}'.format(epoch + 1, batch_i+1, running_loss/10))\n",
    "                running_loss = 0.0\n",
    "\n",
    "    print('Finished Training')\n"
   ]
  },
  {
   "cell_type": "code",
   "execution_count": 15,
   "metadata": {},
   "outputs": [
    {
     "name": "stdout",
     "output_type": "stream",
     "text": [
      "Epoch: 1, Batch: 10, Avg. Loss: 0.9628608494997024\n",
      "Epoch: 1, Batch: 20, Avg. Loss: 0.25142332911491394\n",
      "Epoch: 1, Batch: 30, Avg. Loss: 0.15759038105607032\n",
      "Epoch: 1, Batch: 40, Avg. Loss: 0.14998623505234718\n",
      "Epoch: 1, Batch: 50, Avg. Loss: 0.14023212268948554\n",
      "Epoch: 1, Batch: 60, Avg. Loss: 0.12230726554989815\n",
      "Epoch: 1, Batch: 70, Avg. Loss: 0.13421035930514336\n",
      "Epoch: 1, Batch: 80, Avg. Loss: 0.11904003247618675\n",
      "Epoch: 1, Batch: 90, Avg. Loss: 0.13483603820204734\n",
      "Epoch: 1, Batch: 100, Avg. Loss: 0.1371883951127529\n",
      "Epoch: 1, Batch: 110, Avg. Loss: 0.1229467287659645\n",
      "Epoch: 1, Batch: 120, Avg. Loss: 0.1326737716794014\n",
      "Epoch: 1, Batch: 130, Avg. Loss: 0.12173277288675308\n",
      "Epoch: 1, Batch: 140, Avg. Loss: 0.1006971500813961\n",
      "Epoch: 1, Batch: 150, Avg. Loss: 0.12269787266850471\n",
      "Epoch: 1, Batch: 160, Avg. Loss: 0.15470722019672395\n",
      "Epoch: 1, Batch: 170, Avg. Loss: 0.15437816679477692\n",
      "Epoch: 1, Batch: 180, Avg. Loss: 0.11320246830582618\n",
      "Epoch: 1, Batch: 190, Avg. Loss: 0.135592170804739\n",
      "Epoch: 1, Batch: 200, Avg. Loss: 0.136647517234087\n",
      "Epoch: 1, Batch: 210, Avg. Loss: 0.12676416113972663\n",
      "Epoch: 1, Batch: 220, Avg. Loss: 0.15548859015107155\n",
      "Epoch: 1, Batch: 230, Avg. Loss: 0.16035126894712448\n",
      "Epoch: 1, Batch: 240, Avg. Loss: 0.11981041505932807\n",
      "Epoch: 1, Batch: 250, Avg. Loss: 0.13589757606387137\n",
      "Epoch: 1, Batch: 260, Avg. Loss: 0.14685340076684952\n",
      "Epoch: 1, Batch: 270, Avg. Loss: 0.14308952465653418\n",
      "Epoch: 1, Batch: 280, Avg. Loss: 0.14280336648225783\n",
      "Epoch: 1, Batch: 290, Avg. Loss: 0.13789478987455367\n",
      "Epoch: 1, Batch: 300, Avg. Loss: 0.11839807778596878\n",
      "Epoch: 1, Batch: 310, Avg. Loss: 0.12632859945297242\n",
      "Epoch: 1, Batch: 320, Avg. Loss: 0.14117043390870093\n",
      "Epoch: 1, Batch: 330, Avg. Loss: 0.12100065052509308\n",
      "Epoch: 1, Batch: 340, Avg. Loss: 0.1361856147646904\n",
      "Epoch: 2, Batch: 10, Avg. Loss: 0.13417446613311768\n",
      "Epoch: 2, Batch: 20, Avg. Loss: 0.11201302781701088\n",
      "Epoch: 2, Batch: 30, Avg. Loss: 0.13708837404847146\n",
      "Epoch: 2, Batch: 40, Avg. Loss: 0.11778554022312164\n",
      "Epoch: 2, Batch: 50, Avg. Loss: 0.13877383172512053\n",
      "Epoch: 2, Batch: 60, Avg. Loss: 0.1299453280866146\n",
      "Epoch: 2, Batch: 70, Avg. Loss: 0.12874544709920882\n",
      "Epoch: 2, Batch: 80, Avg. Loss: 0.1231902427971363\n",
      "Epoch: 2, Batch: 90, Avg. Loss: 0.14071352928876876\n",
      "Epoch: 2, Batch: 100, Avg. Loss: 0.138197860121727\n",
      "Epoch: 2, Batch: 110, Avg. Loss: 0.12578485459089278\n",
      "Epoch: 2, Batch: 120, Avg. Loss: 0.11894610151648521\n",
      "Epoch: 2, Batch: 130, Avg. Loss: 0.12097090780735016\n",
      "Epoch: 2, Batch: 140, Avg. Loss: 0.1419409066438675\n",
      "Epoch: 2, Batch: 150, Avg. Loss: 0.17627048566937448\n",
      "Epoch: 2, Batch: 160, Avg. Loss: 0.1408870004117489\n",
      "Epoch: 2, Batch: 170, Avg. Loss: 0.14210773408412933\n",
      "Epoch: 2, Batch: 180, Avg. Loss: 0.1262758828699589\n",
      "Epoch: 2, Batch: 190, Avg. Loss: 0.14311424940824508\n",
      "Epoch: 2, Batch: 200, Avg. Loss: 0.11196383088827133\n",
      "Epoch: 2, Batch: 210, Avg. Loss: 0.11967259049415588\n",
      "Epoch: 2, Batch: 220, Avg. Loss: 0.1371917925775051\n",
      "Epoch: 2, Batch: 230, Avg. Loss: 0.12402480021119118\n",
      "Epoch: 2, Batch: 240, Avg. Loss: 0.11215825304389\n",
      "Epoch: 2, Batch: 250, Avg. Loss: 0.1341284342110157\n",
      "Epoch: 2, Batch: 260, Avg. Loss: 0.12875728011131288\n",
      "Epoch: 2, Batch: 270, Avg. Loss: 0.1538665324449539\n",
      "Epoch: 2, Batch: 280, Avg. Loss: 0.12723335549235343\n",
      "Epoch: 2, Batch: 290, Avg. Loss: 0.1269433744251728\n",
      "Epoch: 2, Batch: 300, Avg. Loss: 0.1321108303964138\n",
      "Epoch: 2, Batch: 310, Avg. Loss: 0.14741682335734368\n",
      "Epoch: 2, Batch: 320, Avg. Loss: 0.1276826947927475\n",
      "Epoch: 2, Batch: 330, Avg. Loss: 0.12066435664892197\n",
      "Epoch: 2, Batch: 340, Avg. Loss: 0.11383050531148911\n",
      "Epoch: 3, Batch: 10, Avg. Loss: 0.12874181494116782\n",
      "Epoch: 3, Batch: 20, Avg. Loss: 0.133316707611084\n",
      "Epoch: 3, Batch: 30, Avg. Loss: 0.13765385523438453\n",
      "Epoch: 3, Batch: 40, Avg. Loss: 0.11801785752177238\n",
      "Epoch: 3, Batch: 50, Avg. Loss: 0.11857199072837829\n",
      "Epoch: 3, Batch: 60, Avg. Loss: 0.14048301577568054\n",
      "Epoch: 3, Batch: 70, Avg. Loss: 0.1396249145269394\n",
      "Epoch: 3, Batch: 80, Avg. Loss: 0.14467851743102073\n",
      "Epoch: 3, Batch: 90, Avg. Loss: 0.15056209787726402\n",
      "Epoch: 3, Batch: 100, Avg. Loss: 0.13574896678328513\n",
      "Epoch: 3, Batch: 110, Avg. Loss: 0.1221333995461464\n",
      "Epoch: 3, Batch: 120, Avg. Loss: 0.13324139937758445\n",
      "Epoch: 3, Batch: 130, Avg. Loss: 0.1322182036936283\n",
      "Epoch: 3, Batch: 140, Avg. Loss: 0.13465058878064157\n",
      "Epoch: 3, Batch: 150, Avg. Loss: 0.15734758004546165\n",
      "Epoch: 3, Batch: 160, Avg. Loss: 0.13315197080373764\n",
      "Epoch: 3, Batch: 170, Avg. Loss: 0.12041317224502564\n",
      "Epoch: 3, Batch: 180, Avg. Loss: 0.1473323605954647\n",
      "Epoch: 3, Batch: 190, Avg. Loss: 0.13296847864985467\n",
      "Epoch: 3, Batch: 200, Avg. Loss: 0.12898212149739266\n",
      "Epoch: 3, Batch: 210, Avg. Loss: 0.12257942482829094\n",
      "Epoch: 3, Batch: 220, Avg. Loss: 0.11139613017439842\n",
      "Epoch: 3, Batch: 230, Avg. Loss: 0.12204954922199249\n",
      "Epoch: 3, Batch: 240, Avg. Loss: 0.15127769336104394\n",
      "Epoch: 3, Batch: 250, Avg. Loss: 0.11367780193686486\n",
      "Epoch: 3, Batch: 260, Avg. Loss: 0.1303501047194004\n",
      "Epoch: 3, Batch: 270, Avg. Loss: 0.12613391354680062\n",
      "Epoch: 3, Batch: 280, Avg. Loss: 0.13120398968458175\n",
      "Epoch: 3, Batch: 290, Avg. Loss: 0.11527779921889306\n",
      "Epoch: 3, Batch: 300, Avg. Loss: 0.11850816085934639\n",
      "Epoch: 3, Batch: 310, Avg. Loss: 0.12172014340758323\n",
      "Epoch: 3, Batch: 320, Avg. Loss: 0.11492467075586318\n",
      "Epoch: 3, Batch: 330, Avg. Loss: 0.1457393355667591\n",
      "Epoch: 3, Batch: 340, Avg. Loss: 0.13247958719730377\n",
      "Epoch: 4, Batch: 10, Avg. Loss: 0.14944398179650306\n",
      "Epoch: 4, Batch: 20, Avg. Loss: 0.13761573880910874\n",
      "Epoch: 4, Batch: 30, Avg. Loss: 0.13109521120786666\n",
      "Epoch: 4, Batch: 40, Avg. Loss: 0.13438589945435525\n",
      "Epoch: 4, Batch: 50, Avg. Loss: 0.13597885370254517\n",
      "Epoch: 4, Batch: 60, Avg. Loss: 0.11091785505414009\n",
      "Epoch: 4, Batch: 70, Avg. Loss: 0.11672298088669777\n",
      "Epoch: 4, Batch: 80, Avg. Loss: 0.11218780651688576\n",
      "Epoch: 4, Batch: 90, Avg. Loss: 0.1339102253317833\n",
      "Epoch: 4, Batch: 100, Avg. Loss: 0.11238298043608666\n",
      "Epoch: 4, Batch: 110, Avg. Loss: 0.12381485551595688\n",
      "Epoch: 4, Batch: 120, Avg. Loss: 0.14047025814652442\n",
      "Epoch: 4, Batch: 130, Avg. Loss: 0.12372775301337242\n",
      "Epoch: 4, Batch: 140, Avg. Loss: 0.11369677558541298\n",
      "Epoch: 4, Batch: 150, Avg. Loss: 0.14709484800696374\n",
      "Epoch: 4, Batch: 160, Avg. Loss: 0.1328735336661339\n",
      "Epoch: 4, Batch: 170, Avg. Loss: 0.11835750117897988\n",
      "Epoch: 4, Batch: 180, Avg. Loss: 0.13525539636611938\n",
      "Epoch: 4, Batch: 190, Avg. Loss: 0.12815563455224038\n",
      "Epoch: 4, Batch: 200, Avg. Loss: 0.12330740690231323\n",
      "Epoch: 4, Batch: 210, Avg. Loss: 0.1312503069639206\n",
      "Epoch: 4, Batch: 220, Avg. Loss: 0.11270366534590721\n",
      "Epoch: 4, Batch: 230, Avg. Loss: 0.11659589260816575\n",
      "Epoch: 4, Batch: 240, Avg. Loss: 0.148725575953722\n",
      "Epoch: 4, Batch: 250, Avg. Loss: 0.12610323280096053\n",
      "Epoch: 4, Batch: 260, Avg. Loss: 0.1452225349843502\n",
      "Epoch: 4, Batch: 270, Avg. Loss: 0.1318374454975128\n",
      "Epoch: 4, Batch: 280, Avg. Loss: 0.12347412258386611\n",
      "Epoch: 4, Batch: 290, Avg. Loss: 0.1303323082625866\n",
      "Epoch: 4, Batch: 300, Avg. Loss: 0.12839642763137818\n",
      "Epoch: 4, Batch: 310, Avg. Loss: 0.12022534236311913\n",
      "Epoch: 4, Batch: 320, Avg. Loss: 0.13364414870738983\n",
      "Epoch: 4, Batch: 330, Avg. Loss: 0.11431559100747109\n",
      "Epoch: 4, Batch: 340, Avg. Loss: 0.11140886321663857\n",
      "Epoch: 5, Batch: 10, Avg. Loss: 0.11986973732709885\n",
      "Epoch: 5, Batch: 20, Avg. Loss: 0.12242920175194741\n",
      "Epoch: 5, Batch: 30, Avg. Loss: 0.1175067089498043\n",
      "Epoch: 5, Batch: 40, Avg. Loss: 0.11691520288586617\n",
      "Epoch: 5, Batch: 50, Avg. Loss: 0.14154062941670417\n",
      "Epoch: 5, Batch: 60, Avg. Loss: 0.148905398696661\n",
      "Epoch: 5, Batch: 70, Avg. Loss: 0.16307279393076896\n",
      "Epoch: 5, Batch: 80, Avg. Loss: 0.11357166767120361\n",
      "Epoch: 5, Batch: 90, Avg. Loss: 0.16107544526457787\n",
      "Epoch: 5, Batch: 100, Avg. Loss: 0.12967801615595817\n",
      "Epoch: 5, Batch: 110, Avg. Loss: 0.14515258148312568\n",
      "Epoch: 5, Batch: 120, Avg. Loss: 0.12643171921372415\n",
      "Epoch: 5, Batch: 130, Avg. Loss: 0.12360145077109337\n",
      "Epoch: 5, Batch: 140, Avg. Loss: 0.13235392943024635\n",
      "Epoch: 5, Batch: 150, Avg. Loss: 0.11672049388289452\n",
      "Epoch: 5, Batch: 160, Avg. Loss: 0.11929195448756218\n",
      "Epoch: 5, Batch: 170, Avg. Loss: 0.11556222215294838\n",
      "Epoch: 5, Batch: 180, Avg. Loss: 0.12160585522651672\n",
      "Epoch: 5, Batch: 190, Avg. Loss: 0.13091963529586792\n",
      "Epoch: 5, Batch: 200, Avg. Loss: 0.10909822732210159\n",
      "Epoch: 5, Batch: 210, Avg. Loss: 0.14468367174267768\n"
     ]
    },
    {
     "name": "stdout",
     "output_type": "stream",
     "text": [
      "Epoch: 5, Batch: 220, Avg. Loss: 0.12028646916151046\n",
      "Epoch: 5, Batch: 230, Avg. Loss: 0.11589573547244073\n",
      "Epoch: 5, Batch: 240, Avg. Loss: 0.13541754856705665\n",
      "Epoch: 5, Batch: 250, Avg. Loss: 0.13050708621740342\n",
      "Epoch: 5, Batch: 260, Avg. Loss: 0.13718442395329475\n",
      "Epoch: 5, Batch: 270, Avg. Loss: 0.1295556828379631\n",
      "Epoch: 5, Batch: 280, Avg. Loss: 0.13129867240786552\n",
      "Epoch: 5, Batch: 290, Avg. Loss: 0.13479767143726348\n",
      "Epoch: 5, Batch: 300, Avg. Loss: 0.12069347724318505\n",
      "Epoch: 5, Batch: 310, Avg. Loss: 0.1025626040995121\n",
      "Epoch: 5, Batch: 320, Avg. Loss: 0.12528251931071283\n",
      "Epoch: 5, Batch: 330, Avg. Loss: 0.1237753264605999\n",
      "Epoch: 5, Batch: 340, Avg. Loss: 0.1344083331525326\n",
      "Epoch: 6, Batch: 10, Avg. Loss: 0.1187864363193512\n",
      "Epoch: 6, Batch: 20, Avg. Loss: 0.12488737031817436\n",
      "Epoch: 6, Batch: 30, Avg. Loss: 0.12107840776443482\n",
      "Epoch: 6, Batch: 40, Avg. Loss: 0.11535362973809242\n",
      "Epoch: 6, Batch: 50, Avg. Loss: 0.11372805684804917\n",
      "Epoch: 6, Batch: 60, Avg. Loss: 0.12130516096949577\n",
      "Epoch: 6, Batch: 70, Avg. Loss: 0.12251274958252907\n",
      "Epoch: 6, Batch: 80, Avg. Loss: 0.12136001065373421\n",
      "Epoch: 6, Batch: 90, Avg. Loss: 0.12349005863070488\n",
      "Epoch: 6, Batch: 100, Avg. Loss: 0.12903304547071456\n",
      "Epoch: 6, Batch: 110, Avg. Loss: 0.13541922941803933\n",
      "Epoch: 6, Batch: 120, Avg. Loss: 0.12809157595038415\n",
      "Epoch: 6, Batch: 130, Avg. Loss: 0.12327694296836852\n",
      "Epoch: 6, Batch: 140, Avg. Loss: 0.12743415981531142\n",
      "Epoch: 6, Batch: 150, Avg. Loss: 0.11097462251782417\n",
      "Epoch: 6, Batch: 160, Avg. Loss: 0.11354288980364799\n",
      "Epoch: 6, Batch: 170, Avg. Loss: 0.12436364144086838\n",
      "Epoch: 6, Batch: 180, Avg. Loss: 0.10948866605758667\n",
      "Epoch: 6, Batch: 190, Avg. Loss: 0.18420718386769294\n",
      "Epoch: 6, Batch: 200, Avg. Loss: 0.15007391944527626\n",
      "Epoch: 6, Batch: 210, Avg. Loss: 0.1486526094377041\n",
      "Epoch: 6, Batch: 220, Avg. Loss: 0.11403267160058021\n",
      "Epoch: 6, Batch: 230, Avg. Loss: 0.11869010925292969\n",
      "Epoch: 6, Batch: 240, Avg. Loss: 0.12968415394425392\n",
      "Epoch: 6, Batch: 250, Avg. Loss: 0.1336034841835499\n",
      "Epoch: 6, Batch: 260, Avg. Loss: 0.11601056680083274\n",
      "Epoch: 6, Batch: 270, Avg. Loss: 0.12090305238962173\n",
      "Epoch: 6, Batch: 280, Avg. Loss: 0.14150430858135224\n",
      "Epoch: 6, Batch: 290, Avg. Loss: 0.14039901196956633\n",
      "Epoch: 6, Batch: 300, Avg. Loss: 0.11361363157629967\n",
      "Epoch: 6, Batch: 310, Avg. Loss: 0.1466084085404873\n",
      "Epoch: 6, Batch: 320, Avg. Loss: 0.12597011104226113\n",
      "Epoch: 6, Batch: 330, Avg. Loss: 0.11312654316425323\n",
      "Epoch: 6, Batch: 340, Avg. Loss: 0.12117854058742523\n",
      "Epoch: 7, Batch: 10, Avg. Loss: 0.14575025513768197\n",
      "Epoch: 7, Batch: 20, Avg. Loss: 0.11434441432356834\n",
      "Epoch: 7, Batch: 30, Avg. Loss: 0.1395275168120861\n",
      "Epoch: 7, Batch: 40, Avg. Loss: 0.12786816582083702\n",
      "Epoch: 7, Batch: 50, Avg. Loss: 0.13049670904874802\n",
      "Epoch: 7, Batch: 60, Avg. Loss: 0.11589008122682572\n",
      "Epoch: 7, Batch: 70, Avg. Loss: 0.12495616674423218\n",
      "Epoch: 7, Batch: 80, Avg. Loss: 0.11909086033701896\n",
      "Epoch: 7, Batch: 90, Avg. Loss: 0.10346922352910042\n",
      "Epoch: 7, Batch: 100, Avg. Loss: 0.1255880869925022\n",
      "Epoch: 7, Batch: 110, Avg. Loss: 0.13645560294389725\n",
      "Epoch: 7, Batch: 120, Avg. Loss: 0.12424765303730964\n",
      "Epoch: 7, Batch: 130, Avg. Loss: 0.11332139968872071\n",
      "Epoch: 7, Batch: 140, Avg. Loss: 0.12676195800304413\n",
      "Epoch: 7, Batch: 150, Avg. Loss: 0.116502196341753\n",
      "Epoch: 7, Batch: 160, Avg. Loss: 0.12496268376708031\n",
      "Epoch: 7, Batch: 170, Avg. Loss: 0.13585743308067322\n",
      "Epoch: 7, Batch: 180, Avg. Loss: 0.14581356719136238\n",
      "Epoch: 7, Batch: 190, Avg. Loss: 0.12198276743292809\n",
      "Epoch: 7, Batch: 200, Avg. Loss: 0.12332291975617408\n",
      "Epoch: 7, Batch: 210, Avg. Loss: 0.13837243020534515\n",
      "Epoch: 7, Batch: 220, Avg. Loss: 0.16061539575457573\n",
      "Epoch: 7, Batch: 230, Avg. Loss: 0.10997601449489594\n",
      "Epoch: 7, Batch: 240, Avg. Loss: 0.12168461084365845\n",
      "Epoch: 7, Batch: 250, Avg. Loss: 0.12588541880249976\n",
      "Epoch: 7, Batch: 260, Avg. Loss: 0.10583225935697556\n",
      "Epoch: 7, Batch: 270, Avg. Loss: 0.11971914619207383\n",
      "Epoch: 7, Batch: 280, Avg. Loss: 0.13063338696956633\n",
      "Epoch: 7, Batch: 290, Avg. Loss: 0.13310145288705827\n",
      "Epoch: 7, Batch: 300, Avg. Loss: 0.12990719974040985\n",
      "Epoch: 7, Batch: 310, Avg. Loss: 0.1187567487359047\n",
      "Epoch: 7, Batch: 320, Avg. Loss: 0.15363754332065582\n",
      "Epoch: 7, Batch: 330, Avg. Loss: 0.12338285818696022\n",
      "Epoch: 7, Batch: 340, Avg. Loss: 0.11493178904056549\n",
      "Epoch: 8, Batch: 10, Avg. Loss: 0.14349667355418205\n",
      "Epoch: 8, Batch: 20, Avg. Loss: 0.12263352870941162\n",
      "Epoch: 8, Batch: 30, Avg. Loss: 0.11512352526187897\n",
      "Epoch: 8, Batch: 40, Avg. Loss: 0.11871716976165772\n",
      "Epoch: 8, Batch: 50, Avg. Loss: 0.13178224489092827\n",
      "Epoch: 8, Batch: 60, Avg. Loss: 0.1329101987183094\n",
      "Epoch: 8, Batch: 70, Avg. Loss: 0.11022905632853508\n",
      "Epoch: 8, Batch: 80, Avg. Loss: 0.13414319455623627\n",
      "Epoch: 8, Batch: 90, Avg. Loss: 0.13481709063053132\n",
      "Epoch: 8, Batch: 100, Avg. Loss: 0.13489053919911384\n",
      "Epoch: 8, Batch: 110, Avg. Loss: 0.1247145764529705\n",
      "Epoch: 8, Batch: 120, Avg. Loss: 0.146418434381485\n",
      "Epoch: 8, Batch: 130, Avg. Loss: 0.1124038353562355\n",
      "Epoch: 8, Batch: 140, Avg. Loss: 0.12518226280808448\n",
      "Epoch: 8, Batch: 150, Avg. Loss: 0.13758710250258446\n",
      "Epoch: 8, Batch: 160, Avg. Loss: 0.11403291299939156\n",
      "Epoch: 8, Batch: 170, Avg. Loss: 0.12539673820137978\n",
      "Epoch: 8, Batch: 180, Avg. Loss: 0.11980951949954033\n",
      "Epoch: 8, Batch: 190, Avg. Loss: 0.12557704076170922\n",
      "Epoch: 8, Batch: 200, Avg. Loss: 0.12218952476978302\n",
      "Epoch: 8, Batch: 210, Avg. Loss: 0.11663828268647194\n",
      "Epoch: 8, Batch: 220, Avg. Loss: 0.11181512698531151\n",
      "Epoch: 8, Batch: 230, Avg. Loss: 0.11287613213062286\n",
      "Epoch: 8, Batch: 240, Avg. Loss: 0.11932598054409027\n",
      "Epoch: 8, Batch: 250, Avg. Loss: 0.1281739093363285\n",
      "Epoch: 8, Batch: 260, Avg. Loss: 0.13425174728035927\n",
      "Epoch: 8, Batch: 270, Avg. Loss: 0.12723812013864516\n",
      "Epoch: 8, Batch: 280, Avg. Loss: 0.12872078493237496\n",
      "Epoch: 8, Batch: 290, Avg. Loss: 0.1242490530014038\n",
      "Epoch: 8, Batch: 300, Avg. Loss: 0.14114673286676407\n",
      "Epoch: 8, Batch: 310, Avg. Loss: 0.11383838281035423\n",
      "Epoch: 8, Batch: 320, Avg. Loss: 0.12692515701055526\n",
      "Epoch: 8, Batch: 330, Avg. Loss: 0.11603105291724206\n",
      "Epoch: 8, Batch: 340, Avg. Loss: 0.11953733563423156\n",
      "Epoch: 9, Batch: 10, Avg. Loss: 0.1271702989935875\n",
      "Epoch: 9, Batch: 20, Avg. Loss: 0.11915872767567634\n",
      "Epoch: 9, Batch: 30, Avg. Loss: 0.12852535396814346\n",
      "Epoch: 9, Batch: 40, Avg. Loss: 0.1316722072660923\n",
      "Epoch: 9, Batch: 50, Avg. Loss: 0.1126139685511589\n",
      "Epoch: 9, Batch: 60, Avg. Loss: 0.13706525191664695\n",
      "Epoch: 9, Batch: 70, Avg. Loss: 0.13842160105705262\n",
      "Epoch: 9, Batch: 80, Avg. Loss: 0.13245844095945358\n",
      "Epoch: 9, Batch: 90, Avg. Loss: 0.11196331083774566\n",
      "Epoch: 9, Batch: 100, Avg. Loss: 0.10319596230983734\n",
      "Epoch: 9, Batch: 110, Avg. Loss: 0.1056501530110836\n",
      "Epoch: 9, Batch: 120, Avg. Loss: 0.09381741099059582\n",
      "Epoch: 9, Batch: 130, Avg. Loss: 0.13167979270219804\n",
      "Epoch: 9, Batch: 140, Avg. Loss: 0.11467798948287963\n",
      "Epoch: 9, Batch: 150, Avg. Loss: 0.11387867331504822\n",
      "Epoch: 9, Batch: 160, Avg. Loss: 0.11720328256487847\n",
      "Epoch: 9, Batch: 170, Avg. Loss: 0.1328470379114151\n",
      "Epoch: 9, Batch: 180, Avg. Loss: 0.14530676379799842\n",
      "Epoch: 9, Batch: 190, Avg. Loss: 0.11600668430328369\n",
      "Epoch: 9, Batch: 200, Avg. Loss: 0.10730074867606162\n",
      "Epoch: 9, Batch: 210, Avg. Loss: 0.11184514462947845\n",
      "Epoch: 9, Batch: 220, Avg. Loss: 0.1366199880838394\n",
      "Epoch: 9, Batch: 230, Avg. Loss: 0.13229359611868857\n",
      "Epoch: 9, Batch: 240, Avg. Loss: 0.12316965833306312\n",
      "Epoch: 9, Batch: 250, Avg. Loss: 0.1058514505624771\n",
      "Epoch: 9, Batch: 260, Avg. Loss: 0.10974428430199623\n",
      "Epoch: 9, Batch: 270, Avg. Loss: 0.11658453717827796\n",
      "Epoch: 9, Batch: 280, Avg. Loss: 0.1372130699455738\n",
      "Epoch: 9, Batch: 290, Avg. Loss: 0.13593551218509675\n",
      "Epoch: 9, Batch: 300, Avg. Loss: 0.14006150141358376\n",
      "Epoch: 9, Batch: 310, Avg. Loss: 0.1525581493973732\n",
      "Epoch: 9, Batch: 320, Avg. Loss: 0.1310964435338974\n",
      "Epoch: 9, Batch: 330, Avg. Loss: 0.11670218706130982\n",
      "Epoch: 9, Batch: 340, Avg. Loss: 0.12838439419865608\n",
      "Epoch: 10, Batch: 10, Avg. Loss: 0.15312547087669373\n",
      "Epoch: 10, Batch: 20, Avg. Loss: 0.10964608639478683\n",
      "Epoch: 10, Batch: 30, Avg. Loss: 0.1121174544095993\n",
      "Epoch: 10, Batch: 40, Avg. Loss: 0.12801108062267302\n",
      "Epoch: 10, Batch: 50, Avg. Loss: 0.12880297228693963\n",
      "Epoch: 10, Batch: 60, Avg. Loss: 0.13563054651021958\n",
      "Epoch: 10, Batch: 70, Avg. Loss: 0.15034655407071112\n"
     ]
    },
    {
     "name": "stdout",
     "output_type": "stream",
     "text": [
      "Epoch: 10, Batch: 80, Avg. Loss: 0.14453491643071176\n",
      "Epoch: 10, Batch: 90, Avg. Loss: 0.13423164933919907\n",
      "Epoch: 10, Batch: 100, Avg. Loss: 0.1243377909064293\n",
      "Epoch: 10, Batch: 110, Avg. Loss: 0.12587088644504546\n",
      "Epoch: 10, Batch: 120, Avg. Loss: 0.10356737151741982\n",
      "Epoch: 10, Batch: 130, Avg. Loss: 0.1360141634941101\n",
      "Epoch: 10, Batch: 140, Avg. Loss: 0.10222657844424247\n",
      "Epoch: 10, Batch: 150, Avg. Loss: 0.12233565598726273\n",
      "Epoch: 10, Batch: 160, Avg. Loss: 0.1399448774755001\n",
      "Epoch: 10, Batch: 170, Avg. Loss: 0.12759172320365905\n",
      "Epoch: 10, Batch: 180, Avg. Loss: 0.11410907730460167\n",
      "Epoch: 10, Batch: 190, Avg. Loss: 0.12863952070474624\n",
      "Epoch: 10, Batch: 200, Avg. Loss: 0.11864274218678475\n",
      "Epoch: 10, Batch: 210, Avg. Loss: 0.11609484776854515\n",
      "Epoch: 10, Batch: 220, Avg. Loss: 0.11939471960067749\n",
      "Epoch: 10, Batch: 230, Avg. Loss: 0.12343858554959297\n",
      "Epoch: 10, Batch: 240, Avg. Loss: 0.11402606442570687\n",
      "Epoch: 10, Batch: 250, Avg. Loss: 0.13382167741656303\n",
      "Epoch: 10, Batch: 260, Avg. Loss: 0.12716583907604218\n",
      "Epoch: 10, Batch: 270, Avg. Loss: 0.10536274984478951\n",
      "Epoch: 10, Batch: 280, Avg. Loss: 0.12289872169494628\n",
      "Epoch: 10, Batch: 290, Avg. Loss: 0.12308121025562287\n",
      "Epoch: 10, Batch: 300, Avg. Loss: 0.15119750052690506\n",
      "Epoch: 10, Batch: 310, Avg. Loss: 0.11628155782818794\n",
      "Epoch: 10, Batch: 320, Avg. Loss: 0.13004688248038293\n",
      "Epoch: 10, Batch: 330, Avg. Loss: 0.1273278094828129\n",
      "Epoch: 10, Batch: 340, Avg. Loss: 0.141511432826519\n",
      "Epoch: 11, Batch: 10, Avg. Loss: 0.11979057490825654\n",
      "Epoch: 11, Batch: 20, Avg. Loss: 0.12862646207213402\n",
      "Epoch: 11, Batch: 30, Avg. Loss: 0.11966268345713615\n",
      "Epoch: 11, Batch: 40, Avg. Loss: 0.1461034446954727\n",
      "Epoch: 11, Batch: 50, Avg. Loss: 0.11473609209060669\n",
      "Epoch: 11, Batch: 60, Avg. Loss: 0.11864396259188652\n",
      "Epoch: 11, Batch: 70, Avg. Loss: 0.10167929753661156\n",
      "Epoch: 11, Batch: 80, Avg. Loss: 0.13344760239124298\n",
      "Epoch: 11, Batch: 90, Avg. Loss: 0.12541014179587365\n",
      "Epoch: 11, Batch: 100, Avg. Loss: 0.15306437984108925\n",
      "Epoch: 11, Batch: 110, Avg. Loss: 0.10976768434047698\n",
      "Epoch: 11, Batch: 120, Avg. Loss: 0.12987035885453224\n",
      "Epoch: 11, Batch: 130, Avg. Loss: 0.12583755552768708\n",
      "Epoch: 11, Batch: 140, Avg. Loss: 0.14066313430666924\n",
      "Epoch: 11, Batch: 150, Avg. Loss: 0.1142886906862259\n",
      "Epoch: 11, Batch: 160, Avg. Loss: 0.12729770317673683\n",
      "Epoch: 11, Batch: 170, Avg. Loss: 0.12764287367463112\n",
      "Epoch: 11, Batch: 180, Avg. Loss: 0.13600513115525245\n",
      "Epoch: 11, Batch: 190, Avg. Loss: 0.11292479038238526\n",
      "Epoch: 11, Batch: 200, Avg. Loss: 0.12200132980942727\n",
      "Epoch: 11, Batch: 210, Avg. Loss: 0.10365268401801586\n",
      "Epoch: 11, Batch: 220, Avg. Loss: 0.12242586240172386\n",
      "Epoch: 11, Batch: 230, Avg. Loss: 0.1451418697834015\n",
      "Epoch: 11, Batch: 240, Avg. Loss: 0.12044031620025634\n",
      "Epoch: 11, Batch: 250, Avg. Loss: 0.1373621091246605\n",
      "Epoch: 11, Batch: 260, Avg. Loss: 0.1270620733499527\n",
      "Epoch: 11, Batch: 270, Avg. Loss: 0.11331965252757073\n",
      "Epoch: 11, Batch: 280, Avg. Loss: 0.10352252051234245\n",
      "Epoch: 11, Batch: 290, Avg. Loss: 0.10440185330808163\n",
      "Epoch: 11, Batch: 300, Avg. Loss: 0.10928485691547393\n",
      "Epoch: 11, Batch: 310, Avg. Loss: 0.11644816398620605\n",
      "Epoch: 11, Batch: 320, Avg. Loss: 0.1312566377222538\n",
      "Epoch: 11, Batch: 330, Avg. Loss: 0.11249243691563607\n",
      "Epoch: 11, Batch: 340, Avg. Loss: 0.11799973249435425\n",
      "Epoch: 12, Batch: 10, Avg. Loss: 0.1130642607808113\n",
      "Epoch: 12, Batch: 20, Avg. Loss: 0.12304455861449241\n",
      "Epoch: 12, Batch: 30, Avg. Loss: 0.11994848176836967\n",
      "Epoch: 12, Batch: 40, Avg. Loss: 0.10519448965787888\n",
      "Epoch: 12, Batch: 50, Avg. Loss: 0.11446539387106895\n",
      "Epoch: 12, Batch: 60, Avg. Loss: 0.11485089510679244\n",
      "Epoch: 12, Batch: 70, Avg. Loss: 0.1155984491109848\n",
      "Epoch: 12, Batch: 80, Avg. Loss: 0.11769753098487853\n",
      "Epoch: 12, Batch: 90, Avg. Loss: 0.13491799384355546\n",
      "Epoch: 12, Batch: 100, Avg. Loss: 0.11303759068250656\n",
      "Epoch: 12, Batch: 110, Avg. Loss: 0.10186906903982162\n",
      "Epoch: 12, Batch: 120, Avg. Loss: 0.12034600004553794\n",
      "Epoch: 12, Batch: 130, Avg. Loss: 0.12655325084924698\n",
      "Epoch: 12, Batch: 140, Avg. Loss: 0.12887359783053398\n",
      "Epoch: 12, Batch: 150, Avg. Loss: 0.12042660415172576\n",
      "Epoch: 12, Batch: 160, Avg. Loss: 0.12075014561414718\n",
      "Epoch: 12, Batch: 170, Avg. Loss: 0.13665284365415573\n",
      "Epoch: 12, Batch: 180, Avg. Loss: 0.13418541997671127\n",
      "Epoch: 12, Batch: 190, Avg. Loss: 0.1599012330174446\n",
      "Epoch: 12, Batch: 200, Avg. Loss: 0.11927028745412827\n",
      "Epoch: 12, Batch: 210, Avg. Loss: 0.12935808151960373\n",
      "Epoch: 12, Batch: 220, Avg. Loss: 0.12158501669764518\n",
      "Epoch: 12, Batch: 230, Avg. Loss: 0.1265833221375942\n",
      "Epoch: 12, Batch: 240, Avg. Loss: 0.11525029540061951\n",
      "Epoch: 12, Batch: 250, Avg. Loss: 0.13633633479475976\n",
      "Epoch: 12, Batch: 260, Avg. Loss: 0.1209276869893074\n",
      "Epoch: 12, Batch: 270, Avg. Loss: 0.10817700996994972\n",
      "Epoch: 12, Batch: 280, Avg. Loss: 0.11359355449676514\n",
      "Epoch: 12, Batch: 290, Avg. Loss: 0.11270136907696723\n",
      "Epoch: 12, Batch: 300, Avg. Loss: 0.11662613898515702\n",
      "Epoch: 12, Batch: 310, Avg. Loss: 0.11154636517167091\n",
      "Epoch: 12, Batch: 320, Avg. Loss: 0.10900925472378731\n",
      "Epoch: 12, Batch: 330, Avg. Loss: 0.12353288009762764\n",
      "Epoch: 12, Batch: 340, Avg. Loss: 0.12316046953201294\n",
      "Epoch: 13, Batch: 10, Avg. Loss: 0.11026356294751168\n",
      "Epoch: 13, Batch: 20, Avg. Loss: 0.13493809923529626\n",
      "Epoch: 13, Batch: 30, Avg. Loss: 0.12437842637300492\n",
      "Epoch: 13, Batch: 40, Avg. Loss: 0.10638932138681412\n",
      "Epoch: 13, Batch: 50, Avg. Loss: 0.12738628759980203\n",
      "Epoch: 13, Batch: 60, Avg. Loss: 0.10678101629018784\n",
      "Epoch: 13, Batch: 70, Avg. Loss: 0.09771664664149285\n",
      "Epoch: 13, Batch: 80, Avg. Loss: 0.1402758039534092\n",
      "Epoch: 13, Batch: 90, Avg. Loss: 0.12139919102191925\n",
      "Epoch: 13, Batch: 100, Avg. Loss: 0.14835430011153222\n",
      "Epoch: 13, Batch: 110, Avg. Loss: 0.12306608036160469\n",
      "Epoch: 13, Batch: 120, Avg. Loss: 0.12266421318054199\n",
      "Epoch: 13, Batch: 130, Avg. Loss: 0.1450068734586239\n",
      "Epoch: 13, Batch: 140, Avg. Loss: 0.13115113377571105\n",
      "Epoch: 13, Batch: 150, Avg. Loss: 0.11981280222535133\n",
      "Epoch: 13, Batch: 160, Avg. Loss: 0.11843875795602798\n",
      "Epoch: 13, Batch: 170, Avg. Loss: 0.12639075294137\n",
      "Epoch: 13, Batch: 180, Avg. Loss: 0.11546202674508095\n",
      "Epoch: 13, Batch: 190, Avg. Loss: 0.11784319430589676\n",
      "Epoch: 13, Batch: 200, Avg. Loss: 0.10996552035212517\n",
      "Epoch: 13, Batch: 210, Avg. Loss: 0.11857408061623573\n",
      "Epoch: 13, Batch: 220, Avg. Loss: 0.1368035778403282\n",
      "Epoch: 13, Batch: 230, Avg. Loss: 0.12246524542570114\n",
      "Epoch: 13, Batch: 240, Avg. Loss: 0.11336299926042556\n",
      "Epoch: 13, Batch: 250, Avg. Loss: 0.11573661938309669\n",
      "Epoch: 13, Batch: 260, Avg. Loss: 0.13102386593818666\n",
      "Epoch: 13, Batch: 270, Avg. Loss: 0.12027873173356056\n",
      "Epoch: 13, Batch: 280, Avg. Loss: 0.1241004578769207\n",
      "Epoch: 13, Batch: 290, Avg. Loss: 0.11915066093206406\n",
      "Epoch: 13, Batch: 300, Avg. Loss: 0.11446440145373345\n",
      "Epoch: 13, Batch: 310, Avg. Loss: 0.1337062433362007\n",
      "Epoch: 13, Batch: 320, Avg. Loss: 0.11090431213378907\n",
      "Epoch: 13, Batch: 330, Avg. Loss: 0.13612915873527526\n",
      "Epoch: 13, Batch: 340, Avg. Loss: 0.12396214380860329\n",
      "Epoch: 14, Batch: 10, Avg. Loss: 0.12574999108910562\n",
      "Epoch: 14, Batch: 20, Avg. Loss: 0.13192785903811455\n",
      "Epoch: 14, Batch: 30, Avg. Loss: 0.10040142312645912\n",
      "Epoch: 14, Batch: 40, Avg. Loss: 0.127341827750206\n",
      "Epoch: 14, Batch: 50, Avg. Loss: 0.10533835589885712\n",
      "Epoch: 14, Batch: 60, Avg. Loss: 0.11025416031479836\n",
      "Epoch: 14, Batch: 70, Avg. Loss: 0.124662596732378\n",
      "Epoch: 14, Batch: 80, Avg. Loss: 0.1354867197573185\n",
      "Epoch: 14, Batch: 90, Avg. Loss: 0.12643572986125945\n",
      "Epoch: 14, Batch: 100, Avg. Loss: 0.12042059376835823\n",
      "Epoch: 14, Batch: 110, Avg. Loss: 0.12172739207744598\n",
      "Epoch: 14, Batch: 120, Avg. Loss: 0.11769425049424172\n",
      "Epoch: 14, Batch: 130, Avg. Loss: 0.11262548640370369\n",
      "Epoch: 14, Batch: 140, Avg. Loss: 0.11071539297699928\n",
      "Epoch: 14, Batch: 150, Avg. Loss: 0.1250716283917427\n",
      "Epoch: 14, Batch: 160, Avg. Loss: 0.12087204977869988\n",
      "Epoch: 14, Batch: 170, Avg. Loss: 0.11003375574946403\n",
      "Epoch: 14, Batch: 180, Avg. Loss: 0.14645847603678702\n",
      "Epoch: 14, Batch: 190, Avg. Loss: 0.11615656539797783\n",
      "Epoch: 14, Batch: 200, Avg. Loss: 0.10845399871468545\n",
      "Epoch: 14, Batch: 210, Avg. Loss: 0.11666636690497398\n",
      "Epoch: 14, Batch: 220, Avg. Loss: 0.1469422847032547\n",
      "Epoch: 14, Batch: 230, Avg. Loss: 0.13939558267593383\n",
      "Epoch: 14, Batch: 240, Avg. Loss: 0.12606441751122474\n",
      "Epoch: 14, Batch: 250, Avg. Loss: 0.11243453323841095\n"
     ]
    },
    {
     "name": "stdout",
     "output_type": "stream",
     "text": [
      "Epoch: 14, Batch: 260, Avg. Loss: 0.10096348449587822\n",
      "Epoch: 14, Batch: 270, Avg. Loss: 0.12154682204127312\n",
      "Epoch: 14, Batch: 280, Avg. Loss: 0.12254572212696076\n",
      "Epoch: 14, Batch: 290, Avg. Loss: 0.1399696834385395\n",
      "Epoch: 14, Batch: 300, Avg. Loss: 0.10462049841880798\n",
      "Epoch: 14, Batch: 310, Avg. Loss: 0.10953910872340203\n",
      "Epoch: 14, Batch: 320, Avg. Loss: 0.11738597005605697\n",
      "Epoch: 14, Batch: 330, Avg. Loss: 0.12683327943086625\n",
      "Epoch: 14, Batch: 340, Avg. Loss: 0.16523559242486954\n",
      "Epoch: 15, Batch: 10, Avg. Loss: 0.14561683982610701\n",
      "Epoch: 15, Batch: 20, Avg. Loss: 0.15226394906640053\n",
      "Epoch: 15, Batch: 30, Avg. Loss: 0.13433682918548584\n",
      "Epoch: 15, Batch: 40, Avg. Loss: 0.11743784993886948\n",
      "Epoch: 15, Batch: 50, Avg. Loss: 0.1292272537946701\n",
      "Epoch: 15, Batch: 60, Avg. Loss: 0.11323807090520858\n",
      "Epoch: 15, Batch: 70, Avg. Loss: 0.14131253883242606\n",
      "Epoch: 15, Batch: 80, Avg. Loss: 0.22583074420690535\n",
      "Epoch: 15, Batch: 90, Avg. Loss: 0.8070130079984665\n",
      "Epoch: 15, Batch: 100, Avg. Loss: 0.4805363520979881\n",
      "Epoch: 15, Batch: 110, Avg. Loss: 1.298146015405655\n",
      "Epoch: 15, Batch: 120, Avg. Loss: 0.3000872522592545\n",
      "Epoch: 15, Batch: 130, Avg. Loss: 0.26376845985651015\n",
      "Epoch: 15, Batch: 140, Avg. Loss: 0.22237042784690858\n",
      "Epoch: 15, Batch: 150, Avg. Loss: 0.22397449910640715\n",
      "Epoch: 15, Batch: 160, Avg. Loss: 0.22561640441417694\n",
      "Epoch: 15, Batch: 170, Avg. Loss: 0.21688167601823807\n",
      "Epoch: 15, Batch: 180, Avg. Loss: 0.19615912586450576\n",
      "Epoch: 15, Batch: 190, Avg. Loss: 0.21650320887565613\n",
      "Epoch: 15, Batch: 200, Avg. Loss: 0.19430802911520004\n",
      "Epoch: 15, Batch: 210, Avg. Loss: 0.20866764038801194\n",
      "Epoch: 15, Batch: 220, Avg. Loss: 0.22009749710559845\n",
      "Epoch: 15, Batch: 230, Avg. Loss: 0.19068006575107574\n",
      "Epoch: 15, Batch: 240, Avg. Loss: 0.2077289417386055\n",
      "Epoch: 15, Batch: 250, Avg. Loss: 0.19854343682527542\n",
      "Epoch: 15, Batch: 260, Avg. Loss: 0.21121647208929062\n",
      "Epoch: 15, Batch: 270, Avg. Loss: 0.21834457963705062\n",
      "Epoch: 15, Batch: 280, Avg. Loss: 0.1988496482372284\n",
      "Epoch: 15, Batch: 290, Avg. Loss: 0.18694770336151123\n",
      "Epoch: 15, Batch: 300, Avg. Loss: 0.19970505237579345\n",
      "Epoch: 15, Batch: 310, Avg. Loss: 0.20700415521860122\n",
      "Epoch: 15, Batch: 320, Avg. Loss: 0.19154004007577896\n",
      "Epoch: 15, Batch: 330, Avg. Loss: 0.18099860548973085\n",
      "Epoch: 15, Batch: 340, Avg. Loss: 0.19886453002691268\n",
      "Finished Training\n"
     ]
    }
   ],
   "source": [
    "# train your network\n",
    "n_epochs = 15 # start small, and increase when you've decided on your model structure and hyperparams\n",
    "\n",
    "# this is a Workspaces-specific context manager to keep the connection\n",
    "# alive while training your model, not part of pytorch\n",
    "with active_session():\n",
    "    train_net(n_epochs)"
   ]
  },
  {
   "cell_type": "markdown",
   "metadata": {},
   "source": [
    "## Test data\n",
    "\n",
    "See how your model performs on previously unseen, test data. We've already loaded and transformed this data, similar to the training data. Next, run your trained model on these images to see what kind of keypoints are produced. You should be able to see if your model is fitting each new face it sees, if the points are distributed randomly, or if the points have actually overfitted the training data and do not generalize."
   ]
  },
  {
   "cell_type": "code",
   "execution_count": null,
   "metadata": {},
   "outputs": [],
   "source": [
    "# get a sample of test data again\n",
    "test_images, test_outputs, gt_pts = net_sample_output()\n",
    "\n",
    "print(test_images.data.size())\n",
    "print(test_outputs.data.size())\n",
    "print(gt_pts.size())"
   ]
  },
  {
   "cell_type": "code",
   "execution_count": null,
   "metadata": {},
   "outputs": [],
   "source": [
    "## TODO: visualize your test output\n",
    "# you can use the same function as before, by un-commenting the line below:\n",
    "\n",
    "visualize_output(test_images, test_outputs, gt_pts)\n"
   ]
  },
  {
   "cell_type": "markdown",
   "metadata": {},
   "source": [
    "Once you've found a good model (or two), save your model so you can load it and use it later!\n",
    "\n",
    "Save your models but please **delete any checkpoints and saved models before you submit your project** otherwise your workspace may be too large to submit."
   ]
  },
  {
   "cell_type": "code",
   "execution_count": null,
   "metadata": {},
   "outputs": [],
   "source": [
    "## TODO: change the name to something uniqe for each new model\n",
    "model_dir = 'saved_models/'\n",
    "model_name = 'keypoints_model_1.pt'\n",
    "\n",
    "# after training, save your model parameters in the dir 'saved_models'\n",
    "torch.save(net.state_dict(), model_dir+model_name)"
   ]
  },
  {
   "cell_type": "markdown",
   "metadata": {},
   "source": [
    "After you've trained a well-performing model, answer the following questions so that we have some insight into your training and architecture selection process. Answering all questions is required to pass this project."
   ]
  },
  {
   "cell_type": "markdown",
   "metadata": {},
   "source": [
    "### Question 1: What optimization and loss functions did you choose and why?\n"
   ]
  },
  {
   "cell_type": "markdown",
   "metadata": {},
   "source": [
    "**Answer**: write your answer here (double click to edit this cell)"
   ]
  },
  {
   "cell_type": "markdown",
   "metadata": {},
   "source": [
    "### Question 2: What kind of network architecture did you start with and how did it change as you tried different architectures? Did you decide to add more convolutional layers or any layers to avoid overfitting the data?"
   ]
  },
  {
   "cell_type": "markdown",
   "metadata": {},
   "source": [
    "**Answer**: write your answer here"
   ]
  },
  {
   "cell_type": "markdown",
   "metadata": {},
   "source": [
    "### Question 3: How did you decide on the number of epochs and batch_size to train your model?"
   ]
  },
  {
   "cell_type": "markdown",
   "metadata": {},
   "source": [
    "**Answer**: write your answer here"
   ]
  },
  {
   "cell_type": "markdown",
   "metadata": {},
   "source": [
    "## Feature Visualization\n",
    "\n",
    "Sometimes, neural networks are thought of as a black box, given some input, they learn to produce some output. CNN's are actually learning to recognize a variety of spatial patterns and you can visualize what each convolutional layer has been trained to recognize by looking at the weights that make up each convolutional kernel and applying those one at a time to a sample image. This technique is called feature visualization and it's useful for understanding the inner workings of a CNN."
   ]
  },
  {
   "cell_type": "markdown",
   "metadata": {},
   "source": [
    "In the cell below, you can see how to extract a single filter (by index) from your first convolutional layer. The filter should appear as a grayscale grid."
   ]
  },
  {
   "cell_type": "code",
   "execution_count": null,
   "metadata": {},
   "outputs": [],
   "source": [
    "# Get the weights in the first conv layer, \"conv1\"\n",
    "# if necessary, change this to reflect the name of your first conv layer\n",
    "weights1 = net.conv1.weight.data\n",
    "\n",
    "w = weights1.numpy()\n",
    "\n",
    "filter_index = 0\n",
    "\n",
    "print(w[filter_index][0])\n",
    "print(w[filter_index][0].shape)\n",
    "\n",
    "# display the filter weights\n",
    "plt.imshow(w[filter_index][0], cmap='gray')\n"
   ]
  },
  {
   "cell_type": "markdown",
   "metadata": {},
   "source": [
    "## Feature maps\n",
    "\n",
    "Each CNN has at least one convolutional layer that is composed of stacked filters (also known as convolutional kernels). As a CNN trains, it learns what weights to include in it's convolutional kernels and when these kernels are applied to some input image, they produce a set of **feature maps**. So, feature maps are just sets of filtered images; they are the images produced by applying a convolutional kernel to an input image. These maps show us the features that the different layers of the neural network learn to extract. For example, you might imagine a convolutional kernel that detects the vertical edges of a face or another one that detects the corners of eyes. You can see what kind of features each of these kernels detects by applying them to an image. One such example is shown below; from the way it brings out the lines in an the image, you might characterize this as an edge detection filter.\n",
    "\n",
    "<img src='images/feature_map_ex.png' width=50% height=50%/>\n",
    "\n",
    "\n",
    "Next, choose a test image and filter it with one of the convolutional kernels in your trained CNN; look at the filtered output to get an idea what that particular kernel detects.\n",
    "\n",
    "### TODO: Filter an image to see the effect of a convolutional kernel\n",
    "---"
   ]
  },
  {
   "cell_type": "code",
   "execution_count": null,
   "metadata": {},
   "outputs": [],
   "source": [
    "##TODO: load in and display any image from the transformed test dataset\n",
    "\n",
    "## TODO: Using cv's filter2D function,\n",
    "## apply a specific set of filter weights (like the one displayed above) to the test image\n"
   ]
  },
  {
   "cell_type": "markdown",
   "metadata": {},
   "source": [
    "### Question 4: Choose one filter from your trained CNN and apply it to a test image; what purpose do you think it plays? What kind of feature do you think it detects?\n"
   ]
  },
  {
   "cell_type": "markdown",
   "metadata": {},
   "source": [
    "**Answer**: (does it detect vertical lines or does it blur out noise, etc.) write your answer here"
   ]
  },
  {
   "cell_type": "markdown",
   "metadata": {},
   "source": [
    "---\n",
    "## Moving on!\n",
    "\n",
    "Now that you've defined and trained your model (and saved the best model), you are ready to move on to the last notebook, which combines a face detector with your saved model to create a facial keypoint detection system that can predict the keypoints on *any* face in an image!"
   ]
  }
 ],
 "metadata": {
  "kernelspec": {
   "display_name": "Python 3",
   "language": "python",
   "name": "python3"
  },
  "language_info": {
   "codemirror_mode": {
    "name": "ipython",
    "version": 3
   },
   "file_extension": ".py",
   "mimetype": "text/x-python",
   "name": "python",
   "nbconvert_exporter": "python",
   "pygments_lexer": "ipython3",
   "version": "3.6.3"
  }
 },
 "nbformat": 4,
 "nbformat_minor": 2
}
